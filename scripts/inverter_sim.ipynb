{
 "cells": [
  {
   "cell_type": "code",
   "execution_count": 2,
   "id": "5097f34e-7128-4b62-b9e3-9dc035a975ac",
   "metadata": {},
   "outputs": [],
   "source": [
    "\n",
    "import control\n",
    "import numpy as np \n",
    "import matplotlib.pyplot as plt\n",
    "import math\n"
   ]
  },
  {
   "cell_type": "markdown",
   "id": "f914724d-69e1-469c-ab98-1a63f86deaa4",
   "metadata": {},
   "source": [
    "## Tentativa de simular circuito trifásico inversor"
   ]
  },
  {
   "cell_type": "code",
   "execution_count": 170,
   "id": "b1878b46-fa9d-4626-a2da-9728c6fb860c",
   "metadata": {},
   "outputs": [
    {
     "name": "stdout",
     "output_type": "stream",
     "text": [
      "3000\n",
      "[0.00000000e+00 1.00033344e-03 2.00066689e-03 ... 2.99799933e+00\n",
      " 2.99899967e+00 3.00000000e+00]\n",
      "3000\n"
     ]
    }
   ],
   "source": [
    "# definindo matrizes de Espaço de Estados para cada subtopologia\n",
    "\n",
    "Ra = 1\n",
    "Rb = 1\n",
    "Rc = 1\n",
    "\n",
    "La = 1e-3\n",
    "Lb = 1e-3\n",
    "Lc = 1e-3\n",
    "\n",
    "Kwa = 1\n",
    "Kwb = 1\n",
    "Kwc = 1\n",
    "\n",
    "\n",
    "A_ab= [-(Ra + Rb)/(La+Lb)]\n",
    "A_ac= [-(Ra + Rc)/(La+Lc)]\n",
    "A_bc= [-(Rb + Rc)/(Lb+Lc)]\n",
    "\n",
    "B_ab = 1/(La+Lb)\n",
    "B_ac = 1/(La+Lc)\n",
    "B_bc = 1/(Lb+Lc)\n",
    "\n",
    "C_ab = [1]\n",
    "C_ac = [1]\n",
    "C_bc = [1]\n",
    "\n",
    "G_ab = [-(Kwa + Kwb)/(La+Lb)]\n",
    "G_ac = [-(Kwa + Kwc)/(La+Lc)]\n",
    "G_bc = [-(Kwb + Kwc)/(Lb+Lc)]\n",
    "\n",
    "D_ab = [0, 0]\n",
    "D_ac = [0, 0]\n",
    "D_bc = [0, 0]\n",
    "\n",
    "#unifica B e G numa matriz de entradas B_ext para ser compatível com biblioteca control\n",
    "#Considerando o vetor u de entradas como [v(t)]\n",
    "#                                        [w(t)]\n",
    "B_ext_ab = np.hstack((B_ab, G_ab))\n",
    "B_ext_ac = np.hstack((B_ac, G_ac))\n",
    "B_ext_bc = np.hstack((B_bc, G_bc))\n",
    "\n",
    "#Vamos simplificar e considerar w(t) uma constante, para manter um tempo de comutação constante\n",
    "\n",
    "w = 2*np.pi #2pi radianos/seg\n",
    "\n",
    "# Parâmetros de simulação\n",
    "dt = 1e-3\n",
    "t_total = 3\n",
    "N = int(t_total / dt)\n",
    "\n",
    "#condições iniciais\n",
    "x0 = [0]\n",
    "\n",
    "\n",
    "# Modelos\n",
    "subtops = [\n",
    "    control.ss(A_ab, B_ext_ab, C_ab, D_ab),\n",
    "    control.ss(A_ac, B_ext_ac, C_ac, D_ac),\n",
    "    control.ss(A_bc, B_ext_bc, C_ac, D_ac),\n",
    "]\n",
    "\n",
    "i_vec = np.zeros(N)\n",
    "idx_vec = np.zeros(N)\n",
    "t_vec = np.linspace(0, t_total, N)\n",
    "\n",
    "\n",
    "print(len(t_vec))\n",
    "print(t_vec)\n",
    "print(len(i_vec))\n"
   ]
  },
  {
   "cell_type": "markdown",
   "id": "afa00651-a34c-47a2-b4cc-f1b0b356c8ea",
   "metadata": {},
   "source": [
    "## Simulação considerando velocidade angular como perturbação que cresce linearmente"
   ]
  },
  {
   "cell_type": "code",
   "execution_count": 1,
   "id": "1e706258-15b0-47ed-9a71-7d72dfb4975a",
   "metadata": {},
   "outputs": [
    {
     "ename": "NameError",
     "evalue": "name 'N' is not defined",
     "output_type": "error",
     "traceback": [
      "\u001b[1;31m---------------------------------------------------------------------------\u001b[0m",
      "\u001b[1;31mNameError\u001b[0m                                 Traceback (most recent call last)",
      "Cell \u001b[1;32mIn[1], line 2\u001b[0m\n\u001b[0;32m      1\u001b[0m \u001b[38;5;66;03m# Simulação\u001b[39;00m\n\u001b[1;32m----> 2\u001b[0m \u001b[38;5;28;01mfor\u001b[39;00m i \u001b[38;5;129;01min\u001b[39;00m \u001b[38;5;28mrange\u001b[39m(\u001b[43mN\u001b[49m):\n\u001b[0;32m      3\u001b[0m     t \u001b[38;5;241m=\u001b[39m t_vec[i]\n\u001b[0;32m      4\u001b[0m     \u001b[38;5;66;03m#define dinamica das entradas\u001b[39;00m\n\u001b[0;32m      5\u001b[0m     \u001b[38;5;66;03m#degrau para V e rampa saturada para w\u001b[39;00m\n",
      "\u001b[1;31mNameError\u001b[0m: name 'N' is not defined"
     ]
    }
   ],
   "source": [
    "# Simulação\n",
    "for i in range(N):\n",
    "    t = t_vec[i]\n",
    "    #define dinamica das entradas\n",
    "    #degrau para V e rampa saturada para w\n",
    "    if t < 1e-3:\n",
    "        V = 0\n",
    "        w = 0\n",
    "    else:\n",
    "        V = 36\n",
    "        if(w < 2*np.pi):\n",
    "            w = w + 0.1\n",
    "            T = (2*np.pi/w)/6 #tempo que dura uma subtopologia\n",
    "    print(T)\n",
    "\n",
    "    u = [V, w]  # entrada: [V, omega]\n",
    "    U_local = np.array([[V, V],\n",
    "                        [w, w]])\n",
    "    idx = int((t // T) % 3)  # subtopologia ativa\n",
    "    idx_vec[i] = idx\n",
    "    sys = subtops[idx]\n",
    "\n",
    "    T_local = [0, dt]\n",
    "\n",
    "    _, yout, xout = control.forced_response(sys, T_local, U_local, X0=x0, return_x = True)\n",
    "\n",
    "    i_vec[i] = yout[0, 1]\n",
    "    x0 = xout[:, -1]\n",
    "\n",
    "\n",
    "# Plot com cores diferentes em cada subtopologia\n",
    "colors = ['blue', 'green', 'red']\n",
    "labels = ['Subtopologia AB', 'Subtopologia AC', 'Subtopologia BC']\n",
    "already_plotted = [False, False, False]\n",
    "\n",
    "for i in range(1, len(t_vec)):\n",
    "    idx = int(idx_vec[i])  # subtopologia atual\n",
    "    color = colors[idx]\n",
    "    label = labels[idx] if not already_plotted[idx] else None\n",
    "\n",
    "    plt.plot(t_vec[i-1:i+1], i_vec[i-1:i+1], color=color, label=label)\n",
    "    already_plotted[idx] = True\n",
    "\n",
    "plt.xlabel('Tempo (s)')\n",
    "plt.ylabel('Corrente da fonte (A)')\n",
    "plt.title('Corrente com Comutação BLDC')\n",
    "plt.grid()\n",
    "plt.legend(loc='upper right')\n",
    "plt.show()"
   ]
  },
  {
   "cell_type": "code",
   "execution_count": 181,
   "id": "f66beada-fb2d-47a6-95ad-672b77607b1b",
   "metadata": {},
   "outputs": [
    {
     "ename": "ValueError",
     "evalue": "all the input arrays must have same number of dimensions, but the array at index 0 has 1 dimension(s) and the array at index 1 has 2 dimension(s)",
     "output_type": "error",
     "traceback": [
      "\u001b[1;31m---------------------------------------------------------------------------\u001b[0m",
      "\u001b[1;31mValueError\u001b[0m                                Traceback (most recent call last)",
      "Cell \u001b[1;32mIn[181], line 49\u001b[0m\n\u001b[0;32m     41\u001b[0m D_ac \u001b[38;5;241m=\u001b[39m [[\u001b[38;5;241m0\u001b[39m, \u001b[38;5;241m0\u001b[39m, \u001b[38;5;241m0\u001b[39m],\n\u001b[0;32m     42\u001b[0m        [\u001b[38;5;241m0\u001b[39m, \u001b[38;5;241m0\u001b[39m, \u001b[38;5;241m0\u001b[39m],\n\u001b[0;32m     43\u001b[0m        [\u001b[38;5;241m0\u001b[39m, \u001b[38;5;241m0\u001b[39m, \u001b[38;5;241m0\u001b[39m]]\n\u001b[0;32m     45\u001b[0m D_bc \u001b[38;5;241m=\u001b[39m [[\u001b[38;5;241m0\u001b[39m, \u001b[38;5;241m0\u001b[39m, \u001b[38;5;241m0\u001b[39m],\n\u001b[0;32m     46\u001b[0m        [\u001b[38;5;241m0\u001b[39m, \u001b[38;5;241m0\u001b[39m, \u001b[38;5;241m0\u001b[39m],\n\u001b[0;32m     47\u001b[0m        [\u001b[38;5;241m0\u001b[39m, \u001b[38;5;241m0\u001b[39m, \u001b[38;5;241m0\u001b[39m]]\n\u001b[1;32m---> 49\u001b[0m B_ext_ab \u001b[38;5;241m=\u001b[39m \u001b[43mnp\u001b[49m\u001b[38;5;241;43m.\u001b[39;49m\u001b[43mhstack\u001b[49m\u001b[43m(\u001b[49m\u001b[43m(\u001b[49m\u001b[43mB_ab\u001b[49m\u001b[43m,\u001b[49m\u001b[43m \u001b[49m\u001b[43mG_ab\u001b[49m\u001b[43m)\u001b[49m\u001b[43m)\u001b[49m\n\u001b[0;32m     50\u001b[0m \u001b[38;5;66;03m# Modelos\u001b[39;00m\n\u001b[0;32m     51\u001b[0m subtops \u001b[38;5;241m=\u001b[39m [\n\u001b[0;32m     52\u001b[0m     control\u001b[38;5;241m.\u001b[39mss(A_ab, B_ext_ab, C_ab, D_ab),\n\u001b[0;32m     53\u001b[0m     control\u001b[38;5;241m.\u001b[39mss(A_ac, B_ext_ac, C_ac, D_ac),\n\u001b[0;32m     54\u001b[0m     control\u001b[38;5;241m.\u001b[39mss(A_bc, B_ext_bc, C_ac, D_ac),\n\u001b[0;32m     55\u001b[0m ]\n",
      "File \u001b[1;32m~\\AppData\\Local\\Packages\\PythonSoftwareFoundation.Python.3.11_qbz5n2kfra8p0\\LocalCache\\local-packages\\Python311\\site-packages\\numpy\\core\\shape_base.py:357\u001b[0m, in \u001b[0;36mhstack\u001b[1;34m(tup, dtype, casting)\u001b[0m\n\u001b[0;32m    355\u001b[0m \u001b[38;5;66;03m# As a special case, dimension 0 of 1-dimensional arrays is \"horizontal\"\u001b[39;00m\n\u001b[0;32m    356\u001b[0m \u001b[38;5;28;01mif\u001b[39;00m arrs \u001b[38;5;129;01mand\u001b[39;00m arrs[\u001b[38;5;241m0\u001b[39m]\u001b[38;5;241m.\u001b[39mndim \u001b[38;5;241m==\u001b[39m \u001b[38;5;241m1\u001b[39m:\n\u001b[1;32m--> 357\u001b[0m     \u001b[38;5;28;01mreturn\u001b[39;00m \u001b[43m_nx\u001b[49m\u001b[38;5;241;43m.\u001b[39;49m\u001b[43mconcatenate\u001b[49m\u001b[43m(\u001b[49m\u001b[43marrs\u001b[49m\u001b[43m,\u001b[49m\u001b[43m \u001b[49m\u001b[38;5;241;43m0\u001b[39;49m\u001b[43m,\u001b[49m\u001b[43m \u001b[49m\u001b[43mdtype\u001b[49m\u001b[38;5;241;43m=\u001b[39;49m\u001b[43mdtype\u001b[49m\u001b[43m,\u001b[49m\u001b[43m \u001b[49m\u001b[43mcasting\u001b[49m\u001b[38;5;241;43m=\u001b[39;49m\u001b[43mcasting\u001b[49m\u001b[43m)\u001b[49m\n\u001b[0;32m    358\u001b[0m \u001b[38;5;28;01melse\u001b[39;00m:\n\u001b[0;32m    359\u001b[0m     \u001b[38;5;28;01mreturn\u001b[39;00m _nx\u001b[38;5;241m.\u001b[39mconcatenate(arrs, \u001b[38;5;241m1\u001b[39m, dtype\u001b[38;5;241m=\u001b[39mdtype, casting\u001b[38;5;241m=\u001b[39mcasting)\n",
      "\u001b[1;31mValueError\u001b[0m: all the input arrays must have same number of dimensions, but the array at index 0 has 1 dimension(s) and the array at index 1 has 2 dimension(s)"
     ]
    }
   ],
   "source": [
    "#Simulando correntes e tensões de fase\n",
    "\n",
    "A_ab = [-(Ra+Rb)/(La+Lb), 0, (Ra+Rb)/(La+Lb)]\n",
    "A_ac = [-(Ra+Rc)/(La+Lc), 0, (Ra+Rc)/(La+Lc)]\n",
    "A_bc = [-(Rb+Rc)/(Lb+Lc), 0, (Rb+Rc)/(Lb+Lc)]\n",
    "\n",
    "\n",
    "B_ab = [1/(La+Lb), 0, 0]\n",
    "B_ac = [0, 1/(La+Lc), 0]\n",
    "B_bc = [0, 0, 1/(Lb+Lc)]\n",
    "\n",
    "C_ab = [[1, 0, 0],\n",
    "       [0, 1, 0],\n",
    "       [0, 0, 1]]\n",
    "\n",
    "C_ac = [[1, 0, 0],\n",
    "       [0, 1, 0],\n",
    "       [0, 0, 1]]\n",
    "\n",
    "C_bc = [[1, 0, 0],\n",
    "       [0, 1, 0],\n",
    "       [0, 0, 1]]\n",
    "\n",
    "G_ab = [[-Kwa/(La+Lb)],\n",
    "       [-Kwb/(La+Lb)],\n",
    "       [0]]\n",
    "\n",
    "G_ac = [[-Kwa/(La+Lc)],\n",
    "       [0],\n",
    "       [-Kwc/(La+Lc)]]\n",
    "G_bc = [[0],\n",
    "       [-Kwb/(Lb+Lc)],\n",
    "       [-Kwc/(Lb+Lc)]]\n",
    "\n",
    "\n",
    "\n",
    "D_ab = [[0, 0, 0],\n",
    "       [0, 0, 0],\n",
    "       [0, 0, 0]]\n",
    "\n",
    "D_ac = [[0, 0, 0],\n",
    "       [0, 0, 0],\n",
    "       [0, 0, 0]]\n",
    "\n",
    "D_bc = [[0, 0, 0],\n",
    "       [0, 0, 0],\n",
    "       [0, 0, 0]]\n",
    "\n",
    "B_ext_ab = np.hstack((B_ab, G_ab))\n",
    "# Modelos\n",
    "subtops = [\n",
    "    control.ss(A_ab, B_ext_ab, C_ab, D_ab),\n",
    "    control.ss(A_ac, B_ext_ac, C_ac, D_ac),\n",
    "    control.ss(A_bc, B_ext_bc, C_ac, D_ac),\n",
    "]\n"
   ]
  },
  {
   "cell_type": "markdown",
   "id": "96c4c4c5-125e-4b3d-950a-96327f08943a",
   "metadata": {},
   "source": [
    "## Simulação de modelo DC do inversor (Matheus)\n"
   ]
  },
  {
   "cell_type": "code",
   "execution_count": 15,
   "id": "aa5db989-a7f3-4024-acf6-225194eb6d89",
   "metadata": {},
   "outputs": [
    {
     "data": {
      "text/plain": [
       "[<matplotlib.lines.Line2D at 0x1fbf3cfe750>]"
      ]
     },
     "execution_count": 15,
     "metadata": {},
     "output_type": "execute_result"
    },
    {
     "data": {
      "image/png": "[encoded data removed]",
      "text/plain": [
       "<Figure size 640x480 with 1 Axes>"
      ]
     },
     "metadata": {},
     "output_type": "display_data"
    }
   ],
   "source": [
    "\n",
    "## Primeiro, construir sinais de entrada (multiseno ou Standard PWM)\n",
    "\n",
    "N = 10 # ordem multiseno\n",
    "\n",
    "w_max = 2*np.pi\n",
    "w_min = 0.1*np.pi\n",
    "\n",
    "# Vetor de tempo com resolução adequada\n",
    "t = np.linspace(0, 10, 1000)  # 10 segundos, 1000 amostras\n",
    "u = np.zeros_like(t)\n",
    "\n",
    "# Construção do sinal multiseno\n",
    "for j in range(1, N+1):\n",
    "    w_j = w_min + (j-1)*(w_max - w_min)/(N-1)  # Frequência harmônica\n",
    "    fase_j = j*(j+1)*np.pi / N                 # Fase única para cada seno\n",
    "    u += np.cos(w_j * t + fase_j)\n",
    "\n",
    "\n",
    "# Normalizar o sinal para o intervalo [-1, 1]\n",
    "u = u / np.max(np.abs(u))\n",
    "\n",
    "# Mapear para intervalo [1000, 2000] microsegundos\n",
    "PWM_min = 1000  # microsegundos\n",
    "PWM_max = 2000\n",
    "\n",
    "# Equação de mapeamento: u_normalizado ∈ [-1, 1] → u_mapeado ∈ [1000, 2000]\n",
    "gain = (PWM_max - PWM_min) / 2        # 500\n",
    "offset = (PWM_max + PWM_min) / 2      # 1500\n",
    "\n",
    "u_pwm = gain * u + offset\n",
    "u_percentual = (u_pwm - PWM_min) / (PWM_max - PWM_min) * 100\n",
    "\n",
    "plt.plot(t, u_percentual)\n",
    "# plt.plot(t, u_pwm)\n",
    "\n",
    "        \n"
   ]
  },
  {
   "cell_type": "code",
   "execution_count": 23,
   "id": "4309469d-663f-4ab2-9cbc-97043a0a21f5",
   "metadata": {},
   "outputs": [
    {
     "data": {
      "text/plain": [
       "array([[0.],\n",
       "       [0.],\n",
       "       [0.],\n",
       "       [0.],\n",
       "       [0.],\n",
       "       [0.],\n",
       "       [0.]])"
      ]
     },
     "execution_count": 23,
     "metadata": {},
     "output_type": "execute_result"
    }
   ],
   "source": [
    "#ordem do modelo\n",
    "N = 2\n",
    "\n",
    "theta = np.zeros((4*N - 1, 1))\n",
    "\n",
    "phi = np.zeros()\n"
   ]
  },
  {
   "cell_type": "code",
   "execution_count": null,
   "id": "148c33e5-2461-4a63-a80e-7a99b0abd2b6",
   "metadata": {},
   "outputs": [],
   "source": []
  }
 ],
 "metadata": {
  "kernelspec": {
   "display_name": "Python 3 (ipykernel)",
   "language": "python",
   "name": "python3"
  },
  "language_info": {
   "codemirror_mode": {
    "name": "ipython",
    "version": 3
   },
   "file_extension": ".py",
   "mimetype": "text/x-python",
   "name": "python",
   "nbconvert_exporter": "python",
   "pygments_lexer": "ipython3",
   "version": "3.11.9"
  }
 },
 "nbformat": 4,
 "nbformat_minor": 5
}
